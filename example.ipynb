{
 "cells": [
  {
   "cell_type": "code",
   "execution_count": null,
   "metadata": {},
   "outputs": [],
   "source": [
    "from pathlib import Path\n",
    "\n",
    "from bm_configurator import DiffusionModelConfig, LLMModelConfig, ModelConfigurator"
   ]
  },
  {
   "cell_type": "code",
   "execution_count": 2,
   "metadata": {},
   "outputs": [
    {
     "name": "stdout",
     "output_type": "stream",
     "text": [
      "\n",
      "==================================================\n",
      "System specifications:\n",
      "- RAM: 27GB\n",
      "- GPU: Not available\n",
      "- Disk space: 1344GB\n",
      "==================================================\n",
      "\n",
      "\n",
      "Compatible models (DiffusionModelConfig):\n",
      "\n",
      "Model #1: Tiny Diffusion\n",
      "Rank: 3\n",
      "ID: parlance/diffusion_mini\n",
      "Description: Ultra-light CPU model\n",
      "Requirements:\n",
      "- Min RAM: 4GB\n",
      "- Disk space: 1GB\n",
      "Tags: cpu, low-res, fast\n",
      "--------------------------------------------------\n",
      "\n",
      "Model #2: Mobile Diffusion\n",
      "Rank: 4\n",
      "ID: apple/mobile-diffusion-v2\n",
      "Description: For mobile devices\n",
      "Requirements:\n",
      "- Min RAM: 3GB\n",
      "- Disk space: 0.5GB\n",
      "Tags: mobile, cpu, fast\n",
      "--------------------------------------------------\n"
     ]
    }
   ],
   "source": [
    "configurator = ModelConfigurator(\n",
    "    model_class=DiffusionModelConfig,\n",
    "    config_path=Path(\"./configs/diffusion_models.yaml\")\n",
    ")\n",
    "\n",
    "configurator.print_available_models()"
   ]
  },
  {
   "cell_type": "code",
   "execution_count": 5,
   "metadata": {},
   "outputs": [
    {
     "name": "stdout",
     "output_type": "stream",
     "text": [
      "\n",
      "==================================================\n",
      "System specifications:\n",
      "- RAM: 27GB\n",
      "- GPU: Not available\n",
      "- Disk space: 1344GB\n",
      "==================================================\n",
      "\n",
      "\n",
      "Compatible models (LLMModelConfig):\n",
      "\n",
      "Model #1: TinyLLM-CPU\n",
      "Rank: 3\n",
      "ID: TinyLLM/tiny-llm-cpu\n",
      "Description: A minimalistic model for the CPU\n",
      "Requirements:\n",
      "- Min RAM: 4GB\n",
      "- Disk space: 1GB\n",
      "Tags: cpu, short-context, basic-prompts\n",
      "--------------------------------------------------\n"
     ]
    }
   ],
   "source": [
    "configurator = ModelConfigurator(\n",
    "    model_class=LLMModelConfig,\n",
    "    config_path=Path(\"./configs/llm_for_promting.yaml\")\n",
    ")\n",
    "\n",
    "configurator.print_available_models()"
   ]
  },
  {
   "cell_type": "code",
   "execution_count": null,
   "metadata": {},
   "outputs": [],
   "source": []
  },
  {
   "cell_type": "code",
   "execution_count": null,
   "metadata": {},
   "outputs": [],
   "source": []
  }
 ],
 "metadata": {
  "kernelspec": {
   "display_name": "imgenboxvenv",
   "language": "python",
   "name": "python3"
  },
  "language_info": {
   "codemirror_mode": {
    "name": "ipython",
    "version": 3
   },
   "file_extension": ".py",
   "mimetype": "text/x-python",
   "name": "python",
   "nbconvert_exporter": "python",
   "pygments_lexer": "ipython3",
   "version": "3.13.2"
  }
 },
 "nbformat": 4,
 "nbformat_minor": 2
}
